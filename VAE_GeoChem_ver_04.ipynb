{
  "nbformat": 4,
  "nbformat_minor": 0,
  "metadata": {
    "colab": {
      "name": "VAE_GeoChem_ver_02.ipynb",
      "provenance": []
    },
    "kernelspec": {
      "name": "python3",
      "display_name": "Python 3"
    },
    "language_info": {
      "name": "python"
    }
  },
  "cells": [
    {
      "cell_type": "markdown",
      "metadata": {
        "id": "jPRR3YBeUX0B"
      },
      "source": [
        "# Library for the Satellite images\n",
        "\n",
        "> Indented block\n",
        "\n"
      ]
    },
    {
      "cell_type": "markdown",
      "metadata": {
        "id": "BZWbrKfqTaVT"
      },
      "source": [
        "## Bands\n",
        "ToDo: Single band <- 7 bands,\n",
        "\n"
      ]
    },
    {
      "cell_type": "code",
      "metadata": {
        "id": "ffeUiGKpmR2q",
        "colab": {
          "base_uri": "https://localhost:8080/"
        },
        "outputId": "5ec58317-e744-4549-a5a8-3ec26de49fc5"
      },
      "source": [
        "!pip install earthpy"
      ],
      "execution_count": 2,
      "outputs": [
        {
          "output_type": "stream",
          "name": "stdout",
          "text": [
            "Collecting earthpy\n",
            "  Downloading earthpy-0.9.4-py3-none-any.whl (1.4 MB)\n",
            "\u001b[K     |████████████████████████████████| 1.4 MB 4.2 MB/s \n",
            "\u001b[?25hRequirement already satisfied: requests in /usr/local/lib/python3.7/dist-packages (from earthpy) (2.23.0)\n",
            "Collecting rasterio\n",
            "  Downloading rasterio-1.2.10-cp37-cp37m-manylinux1_x86_64.whl (19.3 MB)\n",
            "\u001b[K     |████████████████████████████████| 19.3 MB 2.4 MB/s \n",
            "\u001b[?25hRequirement already satisfied: matplotlib>=2.0.0 in /usr/local/lib/python3.7/dist-packages (from earthpy) (3.2.2)\n",
            "Requirement already satisfied: numpy>=1.14.0 in /usr/local/lib/python3.7/dist-packages (from earthpy) (1.19.5)\n",
            "Collecting geopandas\n",
            "  Downloading geopandas-0.10.2-py2.py3-none-any.whl (1.0 MB)\n",
            "\u001b[K     |████████████████████████████████| 1.0 MB 14.6 MB/s \n",
            "\u001b[?25hRequirement already satisfied: scikit-image in /usr/local/lib/python3.7/dist-packages (from earthpy) (0.18.3)\n",
            "Requirement already satisfied: pyparsing!=2.0.4,!=2.1.2,!=2.1.6,>=2.0.1 in /usr/local/lib/python3.7/dist-packages (from matplotlib>=2.0.0->earthpy) (3.0.6)\n",
            "Requirement already satisfied: python-dateutil>=2.1 in /usr/local/lib/python3.7/dist-packages (from matplotlib>=2.0.0->earthpy) (2.8.2)\n",
            "Requirement already satisfied: kiwisolver>=1.0.1 in /usr/local/lib/python3.7/dist-packages (from matplotlib>=2.0.0->earthpy) (1.3.2)\n",
            "Requirement already satisfied: cycler>=0.10 in /usr/local/lib/python3.7/dist-packages (from matplotlib>=2.0.0->earthpy) (0.11.0)\n",
            "Requirement already satisfied: six>=1.5 in /usr/local/lib/python3.7/dist-packages (from python-dateutil>=2.1->matplotlib>=2.0.0->earthpy) (1.15.0)\n",
            "Requirement already satisfied: pandas>=0.25.0 in /usr/local/lib/python3.7/dist-packages (from geopandas->earthpy) (1.1.5)\n",
            "Requirement already satisfied: shapely>=1.6 in /usr/local/lib/python3.7/dist-packages (from geopandas->earthpy) (1.8.0)\n",
            "Collecting fiona>=1.8\n",
            "  Downloading Fiona-1.8.20-cp37-cp37m-manylinux1_x86_64.whl (15.4 MB)\n",
            "\u001b[K     |████████████████████████████████| 15.4 MB 110 kB/s \n",
            "\u001b[?25hCollecting pyproj>=2.2.0\n",
            "  Downloading pyproj-3.2.1-cp37-cp37m-manylinux2010_x86_64.whl (6.3 MB)\n",
            "\u001b[K     |████████████████████████████████| 6.3 MB 32.8 MB/s \n",
            "\u001b[?25hRequirement already satisfied: click>=4.0 in /usr/local/lib/python3.7/dist-packages (from fiona>=1.8->geopandas->earthpy) (7.1.2)\n",
            "Requirement already satisfied: certifi in /usr/local/lib/python3.7/dist-packages (from fiona>=1.8->geopandas->earthpy) (2021.10.8)\n",
            "Requirement already satisfied: attrs>=17 in /usr/local/lib/python3.7/dist-packages (from fiona>=1.8->geopandas->earthpy) (21.2.0)\n",
            "Collecting click-plugins>=1.0\n",
            "  Downloading click_plugins-1.1.1-py2.py3-none-any.whl (7.5 kB)\n",
            "Collecting cligj>=0.5\n",
            "  Downloading cligj-0.7.2-py3-none-any.whl (7.1 kB)\n",
            "Requirement already satisfied: setuptools in /usr/local/lib/python3.7/dist-packages (from fiona>=1.8->geopandas->earthpy) (57.4.0)\n",
            "Collecting munch\n",
            "  Downloading munch-2.5.0-py2.py3-none-any.whl (10 kB)\n",
            "Requirement already satisfied: pytz>=2017.2 in /usr/local/lib/python3.7/dist-packages (from pandas>=0.25.0->geopandas->earthpy) (2018.9)\n",
            "Collecting affine\n",
            "  Downloading affine-2.3.0-py2.py3-none-any.whl (15 kB)\n",
            "Collecting snuggs>=1.4.1\n",
            "  Downloading snuggs-1.4.7-py3-none-any.whl (5.4 kB)\n",
            "Requirement already satisfied: urllib3!=1.25.0,!=1.25.1,<1.26,>=1.21.1 in /usr/local/lib/python3.7/dist-packages (from requests->earthpy) (1.24.3)\n",
            "Requirement already satisfied: idna<3,>=2.5 in /usr/local/lib/python3.7/dist-packages (from requests->earthpy) (2.10)\n",
            "Requirement already satisfied: chardet<4,>=3.0.2 in /usr/local/lib/python3.7/dist-packages (from requests->earthpy) (3.0.4)\n",
            "Requirement already satisfied: PyWavelets>=1.1.1 in /usr/local/lib/python3.7/dist-packages (from scikit-image->earthpy) (1.2.0)\n",
            "Requirement already satisfied: scipy>=1.0.1 in /usr/local/lib/python3.7/dist-packages (from scikit-image->earthpy) (1.4.1)\n",
            "Requirement already satisfied: imageio>=2.3.0 in /usr/local/lib/python3.7/dist-packages (from scikit-image->earthpy) (2.4.1)\n",
            "Requirement already satisfied: pillow!=7.1.0,!=7.1.1,>=4.3.0 in /usr/local/lib/python3.7/dist-packages (from scikit-image->earthpy) (7.1.2)\n",
            "Requirement already satisfied: networkx>=2.0 in /usr/local/lib/python3.7/dist-packages (from scikit-image->earthpy) (2.6.3)\n",
            "Requirement already satisfied: tifffile>=2019.7.26 in /usr/local/lib/python3.7/dist-packages (from scikit-image->earthpy) (2021.11.2)\n",
            "Installing collected packages: munch, cligj, click-plugins, snuggs, pyproj, fiona, affine, rasterio, geopandas, earthpy\n",
            "Successfully installed affine-2.3.0 click-plugins-1.1.1 cligj-0.7.2 earthpy-0.9.4 fiona-1.8.20 geopandas-0.10.2 munch-2.5.0 pyproj-3.2.1 rasterio-1.2.10 snuggs-1.4.7\n"
          ]
        }
      ]
    },
    {
      "cell_type": "code",
      "metadata": {
        "colab": {
          "base_uri": "https://localhost:8080/"
        },
        "id": "Xq2r9CG2PofR",
        "outputId": "45af4a16-6d45-4d18-f1a1-55b9ab0a8c9e"
      },
      "source": [
        "pip install pyrsgis==0.3.9"
      ],
      "execution_count": 3,
      "outputs": [
        {
          "output_type": "stream",
          "name": "stdout",
          "text": [
            "Collecting pyrsgis==0.3.9\n",
            "  Downloading pyrsgis-0.3.9-py3-none-any.whl (13 kB)\n",
            "Installing collected packages: pyrsgis\n",
            "Successfully installed pyrsgis-0.3.9\n"
          ]
        }
      ]
    },
    {
      "cell_type": "markdown",
      "metadata": {
        "id": "ja9_SikbUp7_"
      },
      "source": [
        "## Data Prepration and pre-processing"
      ]
    },
    {
      "cell_type": "code",
      "metadata": {
        "id": "_l7ZaIl3a64g"
      },
      "source": [
        "import numpy as np\n",
        "import random\n",
        "# import sklearn\n",
        "from pyrsgis import raster\n",
        "from pyrsgis.ml import imageChipsFromArray\n",
        "\n",
        "# Defining file names\n",
        "featureFile = 'Playa_Image.tif'\n",
        "# labelFile = 'Playa_Image_Training.tif'\n",
        "\n",
        "# Reading and normalizing input data\n",
        "dsFeatures, arrFeatures = raster.read(featureFile, bands='all')\n",
        "arrFeatures = arrFeatures.astype(float)\n",
        "\n",
        "for i in range(arrFeatures.shape[0]):\n",
        "    bandMin = arrFeatures[i][:][:].min()\n",
        "    bandMax = arrFeatures[i][:][:].max()\n",
        "    bandRange = bandMax-bandMin\n",
        "    for j in range(arrFeatures.shape[1]):\n",
        "        for k in range(arrFeatures.shape[2]):\n",
        "            arrFeatures[i][j][k] = (arrFeatures[i][j][k]-bandMin)/bandRange\n",
        "\n",
        "# Creating chips using pyrsgis\n",
        "features = imageChipsFromArray(arrFeatures, x_size=7, y_size=7)"
      ],
      "execution_count": 5,
      "outputs": []
    },
    {
      "cell_type": "code",
      "metadata": {
        "id": "bkQQ6a8La02b"
      },
      "source": [
        "import matplotlib.pyplot as plt\n",
        "from pyrsgis import raster\n",
        "from pyrsgis.ml import imageChipsFromArray, imageChipsFromFile\n",
        "import torch.nn as nn\n",
        "import torch\n",
        "# Defining the function to split features and labels\n",
        "def train_test_split(features,  trainProp=0.75):\n",
        "    dataSize = features.shape[0]\n",
        "    sliceIndex = int(dataSize*trainProp)\n",
        "    randIndex = np.arange(dataSize)\n",
        "    random.shuffle(randIndex)\n",
        "    train_x = features[[randIndex[:sliceIndex]], :, :, :][0]\n",
        "    test_x = features[[randIndex[sliceIndex:]], :, :, :][0]\n",
        "    # train_y = labels[randIndex[:sliceIndex]]\n",
        "    # test_y = labels[randIndex[sliceIndex:]]\n",
        "    return(train_x,  test_x, )\n",
        "\n",
        "# Calling the function to split the data\n",
        "train_x, test_x = train_test_split(features)"
      ],
      "execution_count": 6,
      "outputs": []
    },
    {
      "cell_type": "markdown",
      "metadata": {
        "id": "e-4pPsHVbSC7"
      },
      "source": [
        "## Dataloader"
      ]
    },
    {
      "cell_type": "code",
      "metadata": {
        "id": "gH-0O7R5bUhZ"
      },
      "source": [
        "data_loader = torch.utils.data.DataLoader(train_x,\n",
        "                                          batch_size=32,\n",
        "                                          shuffle=True,\n",
        "                                          num_workers=0)\n"
      ],
      "execution_count": 7,
      "outputs": []
    },
    {
      "cell_type": "code",
      "metadata": {
        "id": "4mwkJuBxeLRf",
        "colab": {
          "base_uri": "https://localhost:8080/"
        },
        "outputId": "955ad42c-86b8-4991-a559-aaf70b2b5f7e"
      },
      "source": [
        "# mnist_data = MNIST(root='./', download=True, transform=transforms.ToTensor())\n",
        "import matplotlib.pyplot as plt\n",
        "from pyrsgis import raster\n",
        "from pyrsgis.ml import imageChipsFromArray, imageChipsFromFile\n",
        "import torch.nn as nn\n",
        "import torch\n",
        "\n",
        "# read the TIF file(s) (both are of different sizes - for demonstration)\n",
        "single_band_file = r'Playa_Image.tif' # this is a Landsat 5 TM image (7 bands stacked)\n",
        "# multi_band_file = r'Playa_Image.tif' # this is a Landsat 5 TM image (7 bands stacked)\n",
        "\n",
        "# create image chips\n",
        "single_band_chips = imageChipsFromFile(single_band_file, x_size=28, y_size=28)\n",
        "# multi_band_chips = imageChipsFromFile(multi_band_file, x_size=16, y_size=16)\n",
        "\n",
        "print(single_band_chips.shape)\n",
        "# print(multi_band_chips.shape)\n",
        "print(single_band_chips[1].shape)"
      ],
      "execution_count": 8,
      "outputs": [
        {
          "output_type": "stream",
          "name": "stdout",
          "text": [
            "(189658, 28, 28, 7)\n",
            "(28, 28, 7)\n"
          ]
        }
      ]
    },
    {
      "cell_type": "code",
      "metadata": {
        "colab": {
          "base_uri": "https://localhost:8080/"
        },
        "id": "duwvNyewQ1eH",
        "outputId": "a7d1eb1c-888d-4956-82f5-2901204de976"
      },
      "source": [
        "print(len(single_band_chips))"
      ],
      "execution_count": 9,
      "outputs": [
        {
          "output_type": "stream",
          "name": "stdout",
          "text": [
            "189658\n"
          ]
        }
      ]
    },
    {
      "cell_type": "markdown",
      "metadata": {
        "id": "hr1pdMckVXA4"
      },
      "source": [
        "## Change datatype"
      ]
    },
    {
      "cell_type": "code",
      "metadata": {
        "colab": {
          "base_uri": "https://localhost:8080/"
        },
        "id": "yzqEYVArlgXA",
        "outputId": "3c20a4a3-5b15-4d33-e94e-a168daa4686f"
      },
      "source": [
        "import numpy as np\n",
        "import cv2 \n",
        "import tensorflow as tf\n",
        "\n",
        "\n",
        "# changin the type of data images \n",
        "single_band_chips        = np.rollaxis(single_band_chips, 3, 1)\n",
        "single_band_chips_float  = single_band_chips.astype(np.float32)\n",
        "\n",
        "single_band_chips_tensor = torch.as_tensor(single_band_chips_float)\n",
        "\n",
        "print(single_band_chips_tensor.dtype)\n",
        "\n",
        "print('no of chips: bends: h: W ',single_band_chips.shape)"
      ],
      "execution_count": 10,
      "outputs": [
        {
          "output_type": "stream",
          "name": "stdout",
          "text": [
            "torch.float32\n",
            "no of chips: bends: h: W  (189658, 7, 28, 28)\n"
          ]
        }
      ]
    },
    {
      "cell_type": "code",
      "metadata": {
        "id": "Kb4WliqwbIw1"
      },
      "source": [
        "import torch\n",
        "import torch.nn as nn\n",
        "import torch.nn.functional as F\n",
        "# from utils import ACTIVATION_DERIVATIVES\n",
        "import math\n",
        "import torch\n",
        "# from flows import RadialFlow, PlanarFlow\n",
        "from tqdm import tqdm\n",
        "import torch.nn.functional as F\n",
        "# from models import FCNEncoder, FCNDecoder, FlowModel\n",
        "from torchvision.datasets import MNIST\n",
        "from torchvision import transforms\n",
        "from torch import optim\n",
        "from torch.utils.data import DataLoader\n",
        "from torch.nn import BCEWithLogitsLoss\n",
        "from matplotlib import pyplot as plt\n",
        "from scipy.special import logsumexp\n",
        "import numpy as np\n",
        "from sklearn.datasets import make_moons\n",
        "from matplotlib import collections  as mc"
      ],
      "execution_count": 11,
      "outputs": []
    },
    {
      "cell_type": "markdown",
      "metadata": {
        "id": "89vFZ8hPU-cW"
      },
      "source": [
        "## VAE Flow model"
      ]
    },
    {
      "cell_type": "code",
      "metadata": {
        "id": "QC-FuVB4BqzF"
      },
      "source": [
        "from typing import List\n",
        "class FCNEncoder(nn.Module):\n",
        "    def __init__(self, hidden_sizes: List[int], dim_input: int, activation=nn.ReLU()):\n",
        "        super().__init__()\n",
        "        \n",
        "        \n",
        "        hidden_sizes = [dim_input] + hidden_sizes\n",
        "        \n",
        "        self.net = []\n",
        "\n",
        "        for i in range(len(hidden_sizes) - 1):\n",
        "            self.net.append(nn.Linear(hidden_sizes[i], hidden_sizes[i+1]))\n",
        "            self.net.append(nn.ReLU())\n",
        "        \n",
        "        self.net = nn.Sequential(*self.net)\n",
        "\n",
        "        \n",
        "    def forward(self, x):\n",
        "        return self.net(x)"
      ],
      "execution_count": 12,
      "outputs": []
    },
    {
      "cell_type": "code",
      "metadata": {
        "id": "cMmIV6CCagnw"
      },
      "source": [
        "from torch.distributions.multivariate_normal import MultivariateNormal\n",
        "\n",
        "class FlowModel(nn.Module):\n",
        "    def __init__(self, flows: List[str], D: int, activation=torch.tanh):\n",
        "        super().__init__()\n",
        "        \n",
        "        self.prior = MultivariateNormal(torch.zeros(D), torch.eye(D))\n",
        "        self.net = []\n",
        "\n",
        "        for i in range(len(flows)):\n",
        "            layer_class = eval(flows[i])\n",
        "            self.net.append(layer_class(D, activation))\n",
        "\n",
        "        self.net = nn.Sequential(*self.net)\n",
        "\n",
        "        self.D = D\n",
        "\n",
        "\n",
        "    def forward(self, mu: torch.Tensor, log_sigma: torch.Tensor):\n",
        "        \"\"\"\n",
        "        mu: tensor with shape (batch_size, D)\n",
        "        sigma: tensor with shape (batch_size, D)\n",
        "        \"\"\"\n",
        "        sigma = torch.exp(log_sigma)\n",
        "        batch_size = mu.shape[0]\n",
        "        samples = self.prior.sample(torch.Size([batch_size]))\n",
        "        # print(samples.size, sigma.shape)\n",
        "        z = samples * sigma + mu\n",
        "\n",
        "        z0 = z.clone().detach()\n",
        "        log_prob_z0 = torch.sum(\n",
        "            -0.5 * torch.log(torch.tensor(2 * math.pi)) - \n",
        "            log_sigma - 0.5 * ((z - mu) / sigma) ** 2, \n",
        "            axis=1)\n",
        "        \n",
        "        log_det = torch.zeros((batch_size,))\n",
        "        \n",
        "        for layer in self.net:\n",
        "            z, ld = layer(z)\n",
        "            log_det += ld\n",
        "\n",
        "        log_prob_zk = torch.sum(\n",
        "            -0.5 * (torch.log(torch.tensor(2 * math.pi)) + z ** 2), \n",
        "            axis=1)\n",
        "\n",
        "        return z, log_prob_z0, log_prob_zk, log_det"
      ],
      "execution_count": 13,
      "outputs": []
    },
    {
      "cell_type": "code",
      "metadata": {
        "id": "MWl5ZQMXfoeq"
      },
      "source": [
        "ACTIVATION_DERIVATIVES = {\n",
        "    F.elu: lambda x: torch.ones_like(x) * (x >= 0) + torch.exp(x) * (x < 0),\n",
        "    torch.tanh: lambda x: 1 - torch.tanh(x) ** 2\n",
        "}\n",
        "\n",
        "class PlanarFlow(nn.Module):\n",
        "    def __init__(self, D, activation=torch.tanh):\n",
        "        super().__init__()\n",
        "        self.D = D\n",
        "        self.w = nn.Parameter(torch.empty(D))\n",
        "        self.b = nn.Parameter(torch.empty(1))\n",
        "        self.u = nn.Parameter(torch.empty(D))\n",
        "        self.activation = activation\n",
        "        self.activation_derivative = ACTIVATION_DERIVATIVES[activation]\n",
        "\n",
        "        nn.init.normal_(self.w)\n",
        "        nn.init.normal_(self.u)\n",
        "        nn.init.normal_(self.b)\n",
        "\n",
        "    def forward(self, z: torch.Tensor):\n",
        "        lin = (z @ self.w + self.b).unsqueeze(1)  # shape: (B, 1)\n",
        "        f = z + self.u * self.activation(lin)  # shape: (B, D)\n",
        "        phi = self.activation_derivative(lin) * self.w  # shape: (B, D)\n",
        "        log_det = torch.log(torch.abs(1 + phi @ self.u) + 1e-4) # shape: (B,)\n",
        "        \n",
        "\n",
        "        return f, log_det\n",
        "\n",
        "\n",
        "class RadialFlow(nn.Module):\n",
        "    def __init__(self, D, activation=torch.tanh):\n",
        "        super().__init__()\n",
        "\n",
        "        self.z0 = nn.Parameter(torch.empty(D))\n",
        "        self.log_alpha = nn.Parameter(torch.empty(1))\n",
        "        self.beta = nn.Parameter(torch.empty(1))\n",
        "        self.activation = activation\n",
        "        self.activation_derivative = ACTIVATION_DERIVATIVES[activation]\n",
        "        self.D = D\n",
        "\n",
        "        nn.init.normal_(self.z0) \n",
        "        nn.init.normal_(self.log_alpha)\n",
        "        nn.init.normal_(self.beta)\n",
        "\n",
        "\n",
        "    def forward(self, z: torch.Tensor):\n",
        "        z_sub = z - self.z0\n",
        "        alpha = torch.exp(self.log_alpha)\n",
        "        r = torch.norm(z_sub)\n",
        "        h = 1 / (alpha + r)\n",
        "        f = z + self.beta * h * z_sub\n",
        "        log_det = (self.D - 1) * torch.log(1 + self.beta * h) + \\\n",
        "            torch.log(1 + self.beta * h + self.beta - self.beta * r / (alpha + r) ** 2)\n",
        "\n",
        "        return f, log_det"
      ],
      "execution_count": 14,
      "outputs": []
    },
    {
      "cell_type": "code",
      "metadata": {
        "id": "6rrThVTZah_O"
      },
      "source": [
        "class FCNDecoder(nn.Module):\n",
        "    def __init__(self, hidden_sizes: List[int], dim_input: int, activation=nn.ReLU()):\n",
        "        super().__init__()\n",
        "        \n",
        "        hidden_sizes = [dim_input] + hidden_sizes\n",
        "        self.net = []\n",
        "\n",
        "        for i in range(len(hidden_sizes) - 1):\n",
        "            self.net.append(nn.Linear(hidden_sizes[i], hidden_sizes[i+1]))\n",
        "            self.net.append(nn.ReLU())\n",
        "        \n",
        "        self.net = nn.Sequential(*self.net)\n",
        "\n",
        "    def forward(self, z: torch.Tensor):\n",
        "        return self.net(z)"
      ],
      "execution_count": 15,
      "outputs": []
    },
    {
      "cell_type": "code",
      "metadata": {
        "id": "OZcOrS_EeT1S"
      },
      "source": [
        "D = 40 # Depth (No. of channels)\n",
        "encoder = FCNEncoder(hidden_sizes=[128, 64, 2*D], dim_input=7*7*7)\n",
        "flow_model = FlowModel(flows=['PlanarFlow'] * 10, D=40)\n",
        "decoder = FCNDecoder(hidden_sizes=[64, 128, 343], dim_input=40)\n",
        "# optimizer Adam\n",
        "optimizer = optim.Adam(list(encoder.parameters()) + list(flow_model.parameters()) + list(decoder.parameters()))"
      ],
      "execution_count": null,
      "outputs": []
    },
    {
      "cell_type": "code",
      "source": [
        "def gaussian_likelihood(x_hat, logscale, x):\n",
        "        scale = torch.exp(logscale)\n",
        "        mean = x_hat\n",
        "        dist = torch.distributions.Normal(mean, scale)\n",
        "\n",
        "        # measure prob of seeing image under p(x|z)\n",
        "        log_pxz = dist.log_prob(x)\n",
        "        return log_pxz.sum(dim=(1))\n",
        "def kl_divergence(z, mu, std):\n",
        "        # --------------------------\n",
        "        # Monte carlo KL divergence\n",
        "        # --------------------------\n",
        "        # 1. define the first two probabilities (in this case Normal for both)\n",
        "        p = torch.distributions.Normal(torch.zeros_like(mu), torch.ones_like(std))\n",
        "        q = torch.distributions.Normal(mu, std)\n",
        "\n",
        "        # 2. get the probabilities from the equation\n",
        "        log_qzx = q.log_prob(z)\n",
        "        log_pz = p.log_prob(z)\n",
        "\n",
        "        # kl\n",
        "        kl = (log_qzx - log_pz)\n",
        "        kl = kl.sum(-1)\n",
        "        return kl"
      ],
      "metadata": {
        "id": "lJJ307SD6roP"
      },
      "execution_count": 39,
      "outputs": []
    },
    {
      "cell_type": "markdown",
      "metadata": {
        "id": "t-4VQKkJWAWf"
      },
      "source": [
        "## Training of the model"
      ]
    },
    {
      "cell_type": "code",
      "metadata": {
        "colab": {
          "base_uri": "https://localhost:8080/"
        },
        "id": "A1VLVA_iV-yB",
        "outputId": "c94dd834-a8b4-4bd4-8ba6-c3b357bbd156"
      },
      "source": [
        "loss_fn = BCEWithLogitsLoss()\n",
        "running_loss = []\n",
        "reconstruction_loss = []\n",
        "rec_loss = []\n",
        "for i, X_batch in enumerate(data_loader):\n",
        "    optimizer.zero_grad()\n",
        "    out = encoder(X_batch.view(-1, 7*49).float())\n",
        "    mu, log_sigma = out[:, :40], out[:, 40:]\n",
        "    z_k, log_prob_z0, log_prob_zk, log_det = flow_model(mu, log_sigma)\n",
        "    x_hat = decoder(z_k)\n",
        "    # print(x_hat.shape)\n",
        "    # print(X_batch.shape)\n",
        "    log_scale = nn.Parameter(torch.Tensor([0.0]))\n",
        "    x = X_batch.view(-1, 343).float()\n",
        "    recon_loss = gaussian_likelihood(x_hat, log_scale, x)\n",
        "    recon_loss = torch.mean(recon_loss)\n",
        "\n",
        "    # ELBO\n",
        "    std = torch.exp(log_sigma / 2)\n",
        "    kl = kl_divergence(z_k, mu, std)\n",
        "\n",
        "    # elbo\n",
        "    elbo = (kl - recon_loss)\n",
        "    elbo = elbo.mean()\n",
        "\n",
        "    loss = torch.mean(log_prob_z0) + loss_fn(x_hat, X_batch.view(-1, 343).float()) - torch.mean(log_prob_zk) - torch.mean(log_det)\n",
        "    if i % 100 == 0:\n",
        "        print(f'Iteration {i}, loss: {elbo.item()}')\n",
        "        # print(f'Iteration {i}, reconstruction loss: {recon_loss.item()}')\n",
        "        # running_loss.append(loss)\n",
        "        reconstruction_loss.append(elbo // 1000)\n",
        "        # rec_loss.append(recon_loss)\n",
        "    \n",
        "    # loss.backward()\n",
        "    elbo.backward()\n",
        "    optimizer.step()"
      ],
      "execution_count": 58,
      "outputs": [
        {
          "output_type": "stream",
          "name": "stdout",
          "text": [
            "Iteration 0, loss: -119254.25\n",
            "Iteration 100, loss: -120714.0\n",
            "Iteration 200, loss: -122147.0390625\n",
            "Iteration 300, loss: -123594.203125\n",
            "Iteration 400, loss: -125095.6796875\n",
            "Iteration 500, loss: -126700.34375\n",
            "Iteration 600, loss: -128233.046875\n",
            "Iteration 700, loss: -129746.5234375\n",
            "Iteration 800, loss: -131395.875\n",
            "Iteration 900, loss: -132835.265625\n",
            "Iteration 1000, loss: -134465.890625\n",
            "Iteration 1100, loss: -135722.125\n",
            "Iteration 1200, loss: -137544.59375\n",
            "Iteration 1300, loss: -139195.703125\n",
            "Iteration 1400, loss: -140574.734375\n",
            "Iteration 1500, loss: -142203.4375\n",
            "Iteration 1600, loss: -143814.015625\n",
            "Iteration 1700, loss: -145540.15625\n",
            "Iteration 1800, loss: -147001.046875\n",
            "Iteration 1900, loss: -148703.015625\n",
            "Iteration 2000, loss: -150230.703125\n",
            "Iteration 2100, loss: -152105.546875\n",
            "Iteration 2200, loss: -153626.296875\n",
            "Iteration 2300, loss: -155260.875\n",
            "Iteration 2400, loss: -156864.265625\n",
            "Iteration 2500, loss: -158820.765625\n",
            "Iteration 2600, loss: -160223.90625\n",
            "Iteration 2700, loss: -161976.21875\n",
            "Iteration 2800, loss: -163883.1875\n",
            "Iteration 2900, loss: -165440.84375\n",
            "Iteration 3000, loss: -167200.9375\n",
            "Iteration 3100, loss: -168850.8125\n",
            "Iteration 3200, loss: -170608.875\n",
            "Iteration 3300, loss: -172351.375\n",
            "Iteration 3400, loss: -174301.75\n",
            "Iteration 3500, loss: -175938.046875\n",
            "Iteration 3600, loss: -177484.546875\n",
            "Iteration 3700, loss: -179397.234375\n",
            "Iteration 3800, loss: -181103.3125\n",
            "Iteration 3900, loss: -182883.25\n",
            "Iteration 4000, loss: -184718.0\n",
            "Iteration 4100, loss: -186584.125\n",
            "Iteration 4200, loss: -188381.28125\n",
            "Iteration 4300, loss: -190152.0625\n",
            "Iteration 4400, loss: -192096.8125\n"
          ]
        }
      ]
    },
    {
      "cell_type": "code",
      "metadata": {
        "id": "zdc3jgAiU0SF",
        "outputId": "31f32df7-737e-442f-f079-3fb463e36140",
        "colab": {
          "base_uri": "https://localhost:8080/",
          "height": 282
        }
      },
      "source": [
        "plt.plot(running_loss)"
      ],
      "execution_count": 53,
      "outputs": [
        {
          "output_type": "execute_result",
          "data": {
            "text/plain": [
              "[<matplotlib.lines.Line2D at 0x7fd5584131d0>]"
            ]
          },
          "metadata": {},
          "execution_count": 53
        },
        {
          "output_type": "display_data",
          "data": {
            "image/png": "[encoded data removed]",
            "text/plain": [
              "<Figure size 432x288 with 1 Axes>"
            ]
          },
          "metadata": {
            "needs_background": "light"
          }
        }
      ]
    },
    {
      "cell_type": "code",
      "source": [
        "plt.plot(reconstruction_loss)"
      ],
      "metadata": {
        "colab": {
          "base_uri": "https://localhost:8080/",
          "height": 282
        },
        "id": "CZvbuxJ3Fs4p",
        "outputId": "6f091474-4d92-4e1c-f3ce-beb6a1098084"
      },
      "execution_count": 59,
      "outputs": [
        {
          "output_type": "execute_result",
          "data": {
            "text/plain": [
              "[<matplotlib.lines.Line2D at 0x7fd557f78dd0>]"
            ]
          },
          "metadata": {},
          "execution_count": 59
        },
        {
          "output_type": "display_data",
          "data": {
            "image/png": "[encoded data removed]",
            "text/plain": [
              "<Figure size 432x288 with 1 Axes>"
            ]
          },
          "metadata": {
            "needs_background": "light"
          }
        }
      ]
    },
    {
      "cell_type": "code",
      "source": [
        "plt.plot(rec_loss)"
      ],
      "metadata": {
        "colab": {
          "base_uri": "https://localhost:8080/",
          "height": 282
        },
        "id": "bM06r90WJycq",
        "outputId": "9328acfb-5236-4427-862c-80281a880bfb"
      },
      "execution_count": 55,
      "outputs": [
        {
          "output_type": "execute_result",
          "data": {
            "text/plain": [
              "[<matplotlib.lines.Line2D at 0x7fd5584da250>]"
            ]
          },
          "metadata": {},
          "execution_count": 55
        },
        {
          "output_type": "display_data",
          "data": {
            "image/png": "[encoded data removed]",
            "text/plain": [
              "<Figure size 432x288 with 1 Axes>"
            ]
          },
          "metadata": {
            "needs_background": "light"
          }
        }
      ]
    },
    {
      "cell_type": "code",
      "metadata": {
        "id": "qFJS90wZayY9",
        "colab": {
          "base_uri": "https://localhost:8080/"
        },
        "outputId": "2b098114-15ad-464c-c6b8-b28c5388500c"
      },
      "source": [
        "out = encoder(X_batch.view(-1, 343).float())\n",
        "mu, log_sigma = out[:, :D], out[:, D:]\n",
        "z_k, log_prob_z0, log_prob_zk, log_det = flow_model(mu, log_sigma)\n",
        "\n",
        "x_hat = decoder(z_k)\n",
        "\n",
        "loss = torch.mean(log_prob_z0) + loss_fn(x_hat, X_batch.view(-1, 343).float()) - torch.mean(log_prob_zk) - torch.mean(log_det)\n",
        "print(loss)"
      ],
      "execution_count": 19,
      "outputs": [
        {
          "output_type": "stream",
          "name": "stdout",
          "text": [
            "tensor(5.4054, grad_fn=<SubBackward0>)\n"
          ]
        }
      ]
    },
    {
      "cell_type": "code",
      "source": [
        "print(x_hat.shape)"
      ],
      "metadata": {
        "colab": {
          "base_uri": "https://localhost:8080/"
        },
        "id": "dKlPozwBNEiC",
        "outputId": "3d2ecf84-2514-4e42-9e2e-84fc08dc517c"
      },
      "execution_count": 21,
      "outputs": [
        {
          "output_type": "stream",
          "name": "stdout",
          "text": [
            "torch.Size([23, 343])\n"
          ]
        }
      ]
    },
    {
      "cell_type": "code",
      "source": [
        ""
      ],
      "metadata": {
        "id": "qVixi6KYdobB"
      },
      "execution_count": null,
      "outputs": []
    },
    {
      "cell_type": "markdown",
      "source": [
        "# Reconstruction loss "
      ],
      "metadata": {
        "id": "KhO0uNFldqHV"
      }
    },
    {
      "cell_type": "code",
      "source": [
        "def gaussian_likelihood(x_hat, logscale, x):\n",
        "        scale = torch.exp(logscale)\n",
        "        mean = x_hat\n",
        "        dist = torch.distributions.Normal(mean, scale)\n",
        "\n",
        "        # measure prob of seeing image under p(x|z)\n",
        "        log_pxz = dist.log_prob(x)\n",
        "        return log_pxz.sum(dim=(1))"
      ],
      "metadata": {
        "id": "4eLRP5RTO8Bf"
      },
      "execution_count": 32,
      "outputs": []
    },
    {
      "cell_type": "code",
      "source": [
        "def kl_divergence(z, mu, std):\n",
        "        # --------------------------\n",
        "        # Monte carlo KL divergence\n",
        "        # --------------------------\n",
        "        # 1. define the first two probabilities (in this case Normal for both)\n",
        "        p = torch.distributions.Normal(torch.zeros_like(mu), torch.ones_like(std))\n",
        "        q = torch.distributions.Normal(mu, std)\n",
        "\n",
        "        # 2. get the probabilities from the equation\n",
        "        log_qzx = q.log_prob(z)\n",
        "        log_pz = p.log_prob(z)\n",
        "\n",
        "        # kl\n",
        "        kl = (log_qzx - log_pz)\n",
        "        kl = kl.sum(-1)\n",
        "        return kl"
      ],
      "metadata": {
        "id": "jMcm1q81m4c5"
      },
      "execution_count": 36,
      "outputs": []
    },
    {
      "cell_type": "code",
      "source": [
        "log_scale = nn.Parameter(torch.Tensor([0.0]))\n",
        "x = X_batch.view(-1, 343).float()\n",
        "recon_loss = gaussian_likelihood(x_hat, log_scale, x)\n",
        "print(recon_loss)\n",
        "\n",
        "# or \n",
        "\n",
        "# compute the average MSE error, then scale it up i.e. simply sum on all axes\n",
        "# def vae_loss(input_img, output):\n",
        "#     \n",
        "#     reconstruction_loss = K.sum(K.square(output-input_img))\n",
        "#     # compute the KL loss\n",
        "#     kl_loss = -0.5 * K.sum(1 + log_stddev - K.square(mean) - K.square(K.exp(log_stddev)), axis=-1)\n",
        "#     # return the average loss over all images in batch\n",
        "#     total_loss = K.mean(reconstruction_loss + kl_loss)\n",
        "#     return total_loss"
      ],
      "metadata": {
        "colab": {
          "base_uri": "https://localhost:8080/"
        },
        "id": "AjsKzlvuOxV5",
        "outputId": "ccaf1f84-0381-4722-f9ae-c8ee53bc716c"
      },
      "execution_count": 33,
      "outputs": [
        {
          "output_type": "stream",
          "name": "stdout",
          "text": [
            "tensor([-377.9277, -340.8873, -342.8401, -352.6749, -354.1107, -357.5807,\n",
            "        -345.2680, -340.1005, -346.5282, -347.6685, -362.1622, -350.8624,\n",
            "        -343.0221, -393.4669, -360.1813, -325.8000, -349.4560, -380.3485,\n",
            "        -349.4978, -340.2969, -326.9481, -335.4510, -335.0865],\n",
            "       grad_fn=<SumBackward1>)\n"
          ]
        }
      ]
    },
    {
      "cell_type": "markdown",
      "source": [
        "# Evidence lower bound\n",
        "1.   Some things may not be obvious still from this explanation. First, each image will end up with its own q. The KL term will push all the qs towards the same p (called the prior). But if all the qs, collapse to p, then the network can cheat by just mapping everything to zero and thus the VAE will collapse\n",
        "2.   The reconstruction term, forces each q to be unique and spread out so that the image can be reconstructed correctly\n",
        "\n",
        "\n",
        "3. you may experience instability in training VAEs because of mu and sigma(var).\n",
        "\n"
      ],
      "metadata": {
        "id": "CGJCFVNOnzpf"
      }
    },
    {
      "cell_type": "code",
      "source": [
        "# distribution parameters\n",
        "# fc_mu = nn.Linear(enc_out_dim, latent_dim)\n",
        "# fc_var = nn.Linear(enc_out_dim, latent_dim)\n",
        "# mu, log_var = fc_mu(out), fc_var(out)\n",
        "\n",
        "# # sample z from q\n",
        "# mu, log_sigma\n",
        "# z = z_k.rsample()\n",
        "std = torch.exp(log_sigma / 2)\n",
        "# q = torch.distributions.Normal(mu, std)\n",
        "# z = q.rsample()\n",
        "\n",
        "# kl\n",
        "kl = kl_divergence(z_k, mu, std)\n",
        "\n",
        "# elbo\n",
        "elbo = (kl - recon_loss)\n",
        "# elbo = elbo.mean()\n",
        "print(elbo)"
      ],
      "metadata": {
        "colab": {
          "base_uri": "https://localhost:8080/"
        },
        "id": "8A9ohbExgBru",
        "outputId": "9c9f7eeb-ef7b-4c3c-f5d2-93127b7c307f"
      },
      "execution_count": 38,
      "outputs": [
        {
          "output_type": "stream",
          "name": "stdout",
          "text": [
            "tensor([379.0807, 340.5480, 342.8879, 354.5043, 354.1450, 358.6669, 345.6901,\n",
            "        340.0118, 347.4875, 347.2278, 362.6777, 350.3609, 344.3146, 393.3160,\n",
            "        360.4542, 326.0611, 348.7006, 380.4763, 350.4169, 340.5782, 328.7803,\n",
            "        335.1273, 336.0437], grad_fn=<SubBackward0>)\n"
          ]
        }
      ]
    },
    {
      "cell_type": "markdown",
      "metadata": {
        "id": "hZRa2o5KXbRi"
      },
      "source": [
        "# Trash"
      ]
    },
    {
      "cell_type": "code",
      "metadata": {
        "id": "jZgLUOg4ZZl8"
      },
      "source": [
        "import numpy as np\n",
        "import random\n",
        "# import sklearn\n",
        "from pyrsgis import raster\n",
        "from pyrsgis.ml import imageChipsFromArray\n",
        "\n",
        "# Defining file names\n",
        "featureFile = 'Playa_Image.tif'\n",
        "# labelFile = 'Playa_Image_Training.tif'\n",
        "\n",
        "# Reading and normalizing input data\n",
        "dsFeatures, arrFeatures = raster.read(featureFile, bands='all')\n",
        "arrFeatures = arrFeatures.astype(float)\n",
        "\n",
        "for i in range(arrFeatures.shape[0]):\n",
        "    bandMin = arrFeatures[i][:][:].min()\n",
        "    bandMax = arrFeatures[i][:][:].max()\n",
        "    bandRange = bandMax-bandMin\n",
        "    for j in range(arrFeatures.shape[1]):\n",
        "        for k in range(arrFeatures.shape[2]):\n",
        "            arrFeatures[i][j][k] = (arrFeatures[i][j][k]-bandMin)/bandRange\n",
        "\n",
        "# Creating chips using pyrsgis\n",
        "features = imageChipsFromArray(arrFeatures, x_size=7, y_size=7)"
      ],
      "execution_count": null,
      "outputs": []
    },
    {
      "cell_type": "code",
      "metadata": {
        "colab": {
          "base_uri": "https://localhost:8080/"
        },
        "id": "Q02JFN0zZniI",
        "outputId": "d6ec1128-d51f-4902-98f5-ae3ccfe6a4f5"
      },
      "source": [
        "print(features.shape)"
      ],
      "execution_count": null,
      "outputs": [
        {
          "output_type": "stream",
          "name": "stdout",
          "text": [
            "(188788, 7, 7, 7)\n"
          ]
        }
      ]
    },
    {
      "cell_type": "code",
      "metadata": {
        "id": "EbF_JcUsZ-qM"
      },
      "source": [
        "# Defining the function to split features and labels\n",
        "def train_test_split(features,  trainProp=0.75):\n",
        "    dataSize = features.shape[0]\n",
        "    sliceIndex = int(dataSize*trainProp)\n",
        "    randIndex = np.arange(dataSize)\n",
        "    random.shuffle(randIndex)\n",
        "    train_x = features[[randIndex[:sliceIndex]], :, :, :][0]\n",
        "    test_x = features[[randIndex[sliceIndex:]], :, :, :][0]\n",
        "    # train_y = labels[randIndex[:sliceIndex]]\n",
        "    # test_y = labels[randIndex[sliceIndex:]]\n",
        "    return(train_x,  test_x, )\n",
        "\n",
        "# Calling the function to split the data\n",
        "train_x, test_x = train_test_split(features)"
      ],
      "execution_count": null,
      "outputs": []
    },
    {
      "cell_type": "code",
      "metadata": {
        "colab": {
          "base_uri": "https://localhost:8080/"
        },
        "id": "4qIhjJdhaeTI",
        "outputId": "25c289bb-ead6-4c59-8ba1-23eb6314de81"
      },
      "source": [
        "print(train_x.shape, test_x.shape)"
      ],
      "execution_count": null,
      "outputs": [
        {
          "output_type": "stream",
          "name": "stdout",
          "text": [
            "(141591, 7, 7, 7) (47197, 7, 7, 7)\n"
          ]
        }
      ]
    },
    {
      "cell_type": "code",
      "metadata": {
        "id": "HeQz_3vJdZZc"
      },
      "source": [
        "from torch.utils.data import Dataset\n",
        "import numpy as np\n",
        "import torch\n",
        "\n",
        "class BinarizedMNIST(Dataset):\n",
        "    def __init__(self, file):\n",
        "        self.data = np.load(file)\n",
        "        self.data = torch.tensor(self.data)\n",
        "\n",
        "    def __len__(self,):\n",
        "        return len(self.data)\n",
        "\n",
        "    def __getitem__(self, idx):\n",
        "        return self.data[idx]\n",
        "\n",
        "# mnist_data = MNIST(root='./', download=True, transform=transforms.ToTensor())\n",
        "# data = BinarizedMNIST(single_band_chips)\n",
        "data_loader = torch.utils.data.DataLoader(single_band_chips_tensor,\n",
        "                                          batch_size=32,\n",
        "                                          shuffle=True,\n",
        "                                          num_workers=0)"
      ],
      "execution_count": null,
      "outputs": []
    },
    {
      "cell_type": "code",
      "metadata": {
        "id": "QHvdobDaAYTf",
        "colab": {
          "base_uri": "https://localhost:8080/"
        },
        "outputId": "32cf8f95-428b-4925-b725-89100bbe4483"
      },
      "source": [
        "from pyrsgis import raster\n",
        "from pyrsgis.ml import imageChipsFromArray, imageChipsFromFile\n",
        "import torch.nn as nn\n",
        "import torch\n",
        "# read the TIF file(s) (both are of different sizes - for demonstration)\n",
        "single_band_file = r'Playa_Image.tif'\n",
        "multi_band_file = r'Playa_Image.tif' # this is a Landsat 7 TM image (7 bands stacked)\n",
        "\n",
        "# create image chips\n",
        "single_band_chips = imageChipsFromFile(single_band_file, x_size=16, y_size=16)\n",
        "multi_band_chips  = imageChipsFromFile(multi_band_file, x_size=16, y_size=16)\n",
        "\n",
        "print(single_band_chips.shape)\n",
        "print(multi_band_chips.shape)\n",
        "# # read the files as array using pyrsgis raster.read module\n",
        "# _, single_band_array = raster.read(single_band_file)\n",
        "# _, multi_band_array = raster.read(multi_band_file)\n",
        "\n",
        "# # create image chips\n",
        "# single_band_chips = imageChipsFromArray(single_band_array, x_size=5, y_size=5)\n",
        "# multi_band_chips  = imageChipsFromArray(multi_band_array, x_size=5, y_size=5)\n",
        "\n",
        "# print(single_band_chips.shape)\n",
        "# print(multi_band_chips.shape)"
      ],
      "execution_count": null,
      "outputs": [
        {
          "output_type": "stream",
          "name": "stdout",
          "text": [
            "Warning! matplotlib_scalebar library not found. You may not be able to export map directly.\n",
            "(189658, 16, 16, 7)\n",
            "(189658, 16, 16, 7)\n"
          ]
        }
      ]
    }
  ]
}