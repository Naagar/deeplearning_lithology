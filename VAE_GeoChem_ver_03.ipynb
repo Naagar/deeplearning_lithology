{
  "nbformat": 4,
  "nbformat_minor": 0,
  "metadata": {
    "colab": {
      "name": "VAE_GeoChem_ver_02.ipynb",
      "provenance": []
    },
    "kernelspec": {
      "name": "python3",
      "display_name": "Python 3"
    },
    "language_info": {
      "name": "python"
    }
  },
  "cells": [
    {
      "cell_type": "markdown",
      "metadata": {
        "id": "jPRR3YBeUX0B"
      },
      "source": [
        "# Library for the Satellite images\n",
        "\n",
        "> Indented block\n",
        "\n"
      ]
    },
    {
      "cell_type": "markdown",
      "metadata": {
        "id": "BZWbrKfqTaVT"
      },
      "source": [
        "## Bands\n",
        "ToDo: Single band <- 7 bands,\n",
        "\n"
      ]
    },
    {
      "cell_type": "code",
      "metadata": {
        "id": "ffeUiGKpmR2q"
      },
      "source": [
        "!pip install earthpy"
      ],
      "execution_count": null,
      "outputs": []
    },
    {
      "cell_type": "code",
      "metadata": {
        "colab": {
          "base_uri": "https://localhost:8080/"
        },
        "id": "Xq2r9CG2PofR",
        "outputId": "f5e10505-0070-4f8f-8de5-4b4b8167d2f7"
      },
      "source": [
        "pip install pyrsgis==0.3.9"
      ],
      "execution_count": 3,
      "outputs": [
        {
          "output_type": "stream",
          "name": "stdout",
          "text": [
            "Requirement already satisfied: pyrsgis==0.3.9 in /usr/local/lib/python3.7/dist-packages (0.3.9)\n"
          ]
        }
      ]
    },
    {
      "cell_type": "markdown",
      "metadata": {
        "id": "ja9_SikbUp7_"
      },
      "source": [
        "## Data Prepration and pre-processing"
      ]
    },
    {
      "cell_type": "code",
      "metadata": {
        "id": "_l7ZaIl3a64g",
        "colab": {
          "base_uri": "https://localhost:8080/"
        },
        "outputId": "c9d1a4e8-4302-4aac-fa20-2f741e113ab1"
      },
      "source": [
        "import numpy as np\n",
        "import random\n",
        "# import sklearn\n",
        "from pyrsgis import raster\n",
        "from pyrsgis.ml import imageChipsFromArray\n",
        "\n",
        "# Defining file names\n",
        "featureFile = 'Playa_Image.tif'\n",
        "# labelFile = 'Playa_Image_Training.tif'\n",
        "\n",
        "# Reading and normalizing input data\n",
        "dsFeatures, arrFeatures = raster.read(featureFile, bands='all')\n",
        "arrFeatures = arrFeatures.astype(float)\n",
        "\n",
        "for i in range(arrFeatures.shape[0]):\n",
        "    bandMin = arrFeatures[i][:][:].min()\n",
        "    bandMax = arrFeatures[i][:][:].max()\n",
        "    bandRange = bandMax-bandMin\n",
        "    for j in range(arrFeatures.shape[1]):\n",
        "        for k in range(arrFeatures.shape[2]):\n",
        "            arrFeatures[i][j][k] = (arrFeatures[i][j][k]-bandMin)/bandRange\n",
        "\n",
        "# Creating chips using pyrsgis\n",
        "features = imageChipsFromArray(arrFeatures, x_size=7, y_size=7)"
      ],
      "execution_count": 1,
      "outputs": [
        {
          "output_type": "stream",
          "name": "stdout",
          "text": [
            "Warning! matplotlib_scalebar library not found. You may not be able to export map directly.\n"
          ]
        }
      ]
    },
    {
      "cell_type": "code",
      "metadata": {
        "id": "bkQQ6a8La02b"
      },
      "source": [
        "import matplotlib.pyplot as plt\n",
        "from pyrsgis import raster\n",
        "from pyrsgis.ml import imageChipsFromArray, imageChipsFromFile\n",
        "import torch.nn as nn\n",
        "import torch\n",
        "# Defining the function to split features and labels\n",
        "def train_test_split(features,  trainProp=0.75):\n",
        "    dataSize = features.shape[0]\n",
        "    sliceIndex = int(dataSize*trainProp)\n",
        "    randIndex = np.arange(dataSize)\n",
        "    random.shuffle(randIndex)\n",
        "    train_x = features[[randIndex[:sliceIndex]], :, :, :][0]\n",
        "    test_x = features[[randIndex[sliceIndex:]], :, :, :][0]\n",
        "    # train_y = labels[randIndex[:sliceIndex]]\n",
        "    # test_y = labels[randIndex[sliceIndex:]]\n",
        "    return(train_x,  test_x, )\n",
        "\n",
        "# Calling the function to split the data\n",
        "train_x, test_x = train_test_split(features)"
      ],
      "execution_count": 2,
      "outputs": []
    },
    {
      "cell_type": "markdown",
      "metadata": {
        "id": "e-4pPsHVbSC7"
      },
      "source": [
        "## Dataloader"
      ]
    },
    {
      "cell_type": "code",
      "metadata": {
        "id": "gH-0O7R5bUhZ"
      },
      "source": [
        "data_loader = torch.utils.data.DataLoader(train_x,\n",
        "                                          batch_size=32,\n",
        "                                          shuffle=True,\n",
        "                                          num_workers=0)\n"
      ],
      "execution_count": 3,
      "outputs": []
    },
    {
      "cell_type": "code",
      "metadata": {
        "id": "4mwkJuBxeLRf",
        "colab": {
          "base_uri": "https://localhost:8080/"
        },
        "outputId": "de5b7a4f-dbad-423b-d396-1108decfdad1"
      },
      "source": [
        "# mnist_data = MNIST(root='./', download=True, transform=transforms.ToTensor())\n",
        "import matplotlib.pyplot as plt\n",
        "from pyrsgis import raster\n",
        "from pyrsgis.ml import imageChipsFromArray, imageChipsFromFile\n",
        "import torch.nn as nn\n",
        "import torch\n",
        "\n",
        "# read the TIF file(s) (both are of different sizes - for demonstration)\n",
        "single_band_file = r'Playa_Image.tif' # this is a Landsat 5 TM image (7 bands stacked)\n",
        "# multi_band_file = r'Playa_Image.tif' # this is a Landsat 5 TM image (7 bands stacked)\n",
        "\n",
        "# create image chips\n",
        "single_band_chips = imageChipsFromFile(single_band_file, x_size=28, y_size=28)\n",
        "# multi_band_chips = imageChipsFromFile(multi_band_file, x_size=16, y_size=16)\n",
        "\n",
        "print(single_band_chips.shape)\n",
        "# print(multi_band_chips.shape)\n",
        "print(single_band_chips[1].shape)"
      ],
      "execution_count": 14,
      "outputs": [
        {
          "output_type": "stream",
          "name": "stdout",
          "text": [
            "(189658, 28, 28, 7)\n",
            "(28, 28, 7)\n"
          ]
        }
      ]
    },
    {
      "cell_type": "code",
      "metadata": {
        "colab": {
          "base_uri": "https://localhost:8080/"
        },
        "id": "duwvNyewQ1eH",
        "outputId": "de379f3e-19d0-44f2-d9f1-7af7c27a949e"
      },
      "source": [
        "print(len(single_band_chips))"
      ],
      "execution_count": 15,
      "outputs": [
        {
          "output_type": "stream",
          "name": "stdout",
          "text": [
            "189658\n"
          ]
        }
      ]
    },
    {
      "cell_type": "markdown",
      "metadata": {
        "id": "hr1pdMckVXA4"
      },
      "source": [
        "## Change datatype"
      ]
    },
    {
      "cell_type": "code",
      "metadata": {
        "colab": {
          "base_uri": "https://localhost:8080/"
        },
        "id": "yzqEYVArlgXA",
        "outputId": "90239c6e-7648-4efa-9c35-425e08700b97"
      },
      "source": [
        "import numpy as np\n",
        "import cv2 \n",
        "import tensorflow as tf\n",
        "\n",
        "\n",
        "# changin the type of data images \n",
        "single_band_chips        = np.rollaxis(single_band_chips, 3, 1)\n",
        "single_band_chips_float  = single_band_chips.astype(np.float32)\n",
        "\n",
        "single_band_chips_tensor = torch.as_tensor(single_band_chips_float)\n",
        "\n",
        "print(single_band_chips_tensor.dtype)\n",
        "\n",
        "print('no of chips: bends: h: W ',single_band_chips.shape)"
      ],
      "execution_count": 16,
      "outputs": [
        {
          "output_type": "stream",
          "name": "stdout",
          "text": [
            "torch.float32\n",
            "no of chips: bends: h: W  (189658, 7, 28, 28)\n"
          ]
        }
      ]
    },
    {
      "cell_type": "code",
      "metadata": {
        "id": "Kb4WliqwbIw1"
      },
      "source": [
        "import torch\n",
        "import torch.nn as nn\n",
        "import torch.nn.functional as F\n",
        "# from utils import ACTIVATION_DERIVATIVES\n",
        "import math\n",
        "import torch\n",
        "# from flows import RadialFlow, PlanarFlow\n",
        "from tqdm import tqdm\n",
        "import torch.nn.functional as F\n",
        "# from models import FCNEncoder, FCNDecoder, FlowModel\n",
        "from torchvision.datasets import MNIST\n",
        "from torchvision import transforms\n",
        "from torch import optim\n",
        "from torch.utils.data import DataLoader\n",
        "from torch.nn import BCEWithLogitsLoss\n",
        "from matplotlib import pyplot as plt\n",
        "from scipy.special import logsumexp\n",
        "import numpy as np\n",
        "from sklearn.datasets import make_moons\n",
        "from matplotlib import collections  as mc"
      ],
      "execution_count": 4,
      "outputs": []
    },
    {
      "cell_type": "markdown",
      "metadata": {
        "id": "89vFZ8hPU-cW"
      },
      "source": [
        "## VAE Flow model"
      ]
    },
    {
      "cell_type": "code",
      "metadata": {
        "id": "QC-FuVB4BqzF"
      },
      "source": [
        "from typing import List\n",
        "class FCNEncoder(nn.Module):\n",
        "    def __init__(self, hidden_sizes: List[int], dim_input: int, activation=nn.ReLU()):\n",
        "        super().__init__()\n",
        "        \n",
        "        \n",
        "        hidden_sizes = [dim_input] + hidden_sizes\n",
        "        \n",
        "        self.net = []\n",
        "\n",
        "        for i in range(len(hidden_sizes) - 1):\n",
        "            self.net.append(nn.Linear(hidden_sizes[i], hidden_sizes[i+1]))\n",
        "            self.net.append(nn.ReLU())\n",
        "        \n",
        "        self.net = nn.Sequential(*self.net)\n",
        "\n",
        "        \n",
        "    def forward(self, x):\n",
        "        return self.net(x)"
      ],
      "execution_count": 5,
      "outputs": []
    },
    {
      "cell_type": "code",
      "metadata": {
        "id": "cMmIV6CCagnw"
      },
      "source": [
        "from torch.distributions.multivariate_normal import MultivariateNormal\n",
        "\n",
        "class FlowModel(nn.Module):\n",
        "    def __init__(self, flows: List[str], D: int, activation=torch.tanh):\n",
        "        super().__init__()\n",
        "        \n",
        "        self.prior = MultivariateNormal(torch.zeros(D), torch.eye(D))\n",
        "        self.net = []\n",
        "\n",
        "        for i in range(len(flows)):\n",
        "            layer_class = eval(flows[i])\n",
        "            self.net.append(layer_class(D, activation))\n",
        "\n",
        "        self.net = nn.Sequential(*self.net)\n",
        "\n",
        "        self.D = D\n",
        "\n",
        "\n",
        "    def forward(self, mu: torch.Tensor, log_sigma: torch.Tensor):\n",
        "        \"\"\"\n",
        "        mu: tensor with shape (batch_size, D)\n",
        "        sigma: tensor with shape (batch_size, D)\n",
        "        \"\"\"\n",
        "        sigma = torch.exp(log_sigma)\n",
        "        batch_size = mu.shape[0]\n",
        "        samples = self.prior.sample(torch.Size([batch_size]))\n",
        "        # print(samples.size, sigma.shape)\n",
        "        z = samples * sigma + mu\n",
        "\n",
        "        z0 = z.clone().detach()\n",
        "        log_prob_z0 = torch.sum(\n",
        "            -0.5 * torch.log(torch.tensor(2 * math.pi)) - \n",
        "            log_sigma - 0.5 * ((z - mu) / sigma) ** 2, \n",
        "            axis=1)\n",
        "        \n",
        "        log_det = torch.zeros((batch_size,))\n",
        "        \n",
        "        for layer in self.net:\n",
        "            z, ld = layer(z)\n",
        "            log_det += ld\n",
        "\n",
        "        log_prob_zk = torch.sum(\n",
        "            -0.5 * (torch.log(torch.tensor(2 * math.pi)) + z ** 2), \n",
        "            axis=1)\n",
        "\n",
        "        return z, log_prob_z0, log_prob_zk, log_det"
      ],
      "execution_count": 6,
      "outputs": []
    },
    {
      "cell_type": "code",
      "metadata": {
        "id": "MWl5ZQMXfoeq"
      },
      "source": [
        "ACTIVATION_DERIVATIVES = {\n",
        "    F.elu: lambda x: torch.ones_like(x) * (x >= 0) + torch.exp(x) * (x < 0),\n",
        "    torch.tanh: lambda x: 1 - torch.tanh(x) ** 2\n",
        "}\n",
        "\n",
        "class PlanarFlow(nn.Module):\n",
        "    def __init__(self, D, activation=torch.tanh):\n",
        "        super().__init__()\n",
        "        self.D = D\n",
        "        self.w = nn.Parameter(torch.empty(D))\n",
        "        self.b = nn.Parameter(torch.empty(1))\n",
        "        self.u = nn.Parameter(torch.empty(D))\n",
        "        self.activation = activation\n",
        "        self.activation_derivative = ACTIVATION_DERIVATIVES[activation]\n",
        "\n",
        "        nn.init.normal_(self.w)\n",
        "        nn.init.normal_(self.u)\n",
        "        nn.init.normal_(self.b)\n",
        "\n",
        "    def forward(self, z: torch.Tensor):\n",
        "        lin = (z @ self.w + self.b).unsqueeze(1)  # shape: (B, 1)\n",
        "        f = z + self.u * self.activation(lin)  # shape: (B, D)\n",
        "        phi = self.activation_derivative(lin) * self.w  # shape: (B, D)\n",
        "        log_det = torch.log(torch.abs(1 + phi @ self.u) + 1e-4) # shape: (B,)\n",
        "        \n",
        "\n",
        "        return f, log_det\n",
        "\n",
        "\n",
        "class RadialFlow(nn.Module):\n",
        "    def __init__(self, D, activation=torch.tanh):\n",
        "        super().__init__()\n",
        "\n",
        "        self.z0 = nn.Parameter(torch.empty(D))\n",
        "        self.log_alpha = nn.Parameter(torch.empty(1))\n",
        "        self.beta = nn.Parameter(torch.empty(1))\n",
        "        self.activation = activation\n",
        "        self.activation_derivative = ACTIVATION_DERIVATIVES[activation]\n",
        "        self.D = D\n",
        "\n",
        "        nn.init.normal_(self.z0) \n",
        "        nn.init.normal_(self.log_alpha)\n",
        "        nn.init.normal_(self.beta)\n",
        "\n",
        "\n",
        "    def forward(self, z: torch.Tensor):\n",
        "        z_sub = z - self.z0\n",
        "        alpha = torch.exp(self.log_alpha)\n",
        "        r = torch.norm(z_sub)\n",
        "        h = 1 / (alpha + r)\n",
        "        f = z + self.beta * h * z_sub\n",
        "        log_det = (self.D - 1) * torch.log(1 + self.beta * h) + \\\n",
        "            torch.log(1 + self.beta * h + self.beta - self.beta * r / (alpha + r) ** 2)\n",
        "\n",
        "        return f, log_det"
      ],
      "execution_count": 7,
      "outputs": []
    },
    {
      "cell_type": "code",
      "metadata": {
        "id": "6rrThVTZah_O"
      },
      "source": [
        "class FCNDecoder(nn.Module):\n",
        "    def __init__(self, hidden_sizes: List[int], dim_input: int, activation=nn.ReLU()):\n",
        "        super().__init__()\n",
        "        \n",
        "        hidden_sizes = [dim_input] + hidden_sizes\n",
        "        self.net = []\n",
        "\n",
        "        for i in range(len(hidden_sizes) - 1):\n",
        "            self.net.append(nn.Linear(hidden_sizes[i], hidden_sizes[i+1]))\n",
        "            self.net.append(nn.ReLU())\n",
        "        \n",
        "        self.net = nn.Sequential(*self.net)\n",
        "\n",
        "    def forward(self, z: torch.Tensor):\n",
        "        return self.net(z)"
      ],
      "execution_count": 8,
      "outputs": []
    },
    {
      "cell_type": "code",
      "metadata": {
        "id": "OZcOrS_EeT1S"
      },
      "source": [
        "D = 40 # Depth (No. of channels)\n",
        "encoder = FCNEncoder(hidden_sizes=[128, 64, 2*D], dim_input=7*7*7)\n",
        "flow_model = FlowModel(flows=['PlanarFlow'] * 10, D=40)\n",
        "decoder = FCNDecoder(hidden_sizes=[64, 128, 343], dim_input=40)\n",
        "# optimizer Adam\n",
        "optimizer = optim.Adam(list(encoder.parameters()) + list(flow_model.parameters()) + list(decoder.parameters()))"
      ],
      "execution_count": 26,
      "outputs": []
    },
    {
      "cell_type": "markdown",
      "metadata": {
        "id": "t-4VQKkJWAWf"
      },
      "source": [
        "## Training of the model"
      ]
    },
    {
      "cell_type": "code",
      "metadata": {
        "colab": {
          "base_uri": "https://localhost:8080/"
        },
        "id": "A1VLVA_iV-yB",
        "outputId": "0225f152-ec60-4dda-978a-97b9ea0df51d"
      },
      "source": [
        "loss_fn = BCEWithLogitsLoss()\n",
        "running_loss = []\n",
        "for i, X_batch in enumerate(data_loader):\n",
        "    optimizer.zero_grad()\n",
        "    out = encoder(X_batch.view(-1, 7*49).float())\n",
        "    mu, log_sigma = out[:, :40], out[:, 40:]\n",
        "    z_k, log_prob_z0, log_prob_zk, log_det = flow_model(mu, log_sigma)\n",
        "    x_hat = decoder(z_k)\n",
        "    # print(x_hat.shape)\n",
        "    # print(X_batch.shape)\n",
        "    \n",
        "    loss = torch.mean(log_prob_z0) + loss_fn(x_hat, X_batch.view(-1, 343).float()) - torch.mean(log_prob_zk) - torch.mean(log_det)\n",
        "    if i % 100 == 0:\n",
        "        print(f'Iteration {i}, loss: {loss.item()}')\n",
        "        running_loss.append(loss)\n",
        "    \n",
        "    loss.backward()\n",
        "    optimizer.step()"
      ],
      "execution_count": 27,
      "outputs": [
        {
          "output_type": "stream",
          "name": "stdout",
          "text": [
            "Iteration 0, loss: 219.13465881347656\n",
            "Iteration 100, loss: 170.40640258789062\n",
            "Iteration 200, loss: 141.54542541503906\n",
            "Iteration 300, loss: 111.38267517089844\n",
            "Iteration 400, loss: 89.8583984375\n",
            "Iteration 500, loss: 79.28489685058594\n",
            "Iteration 600, loss: 73.37884521484375\n",
            "Iteration 700, loss: 60.26276779174805\n",
            "Iteration 800, loss: 50.16343307495117\n",
            "Iteration 900, loss: 49.55780792236328\n",
            "Iteration 1000, loss: 49.9427490234375\n",
            "Iteration 1100, loss: 45.19700622558594\n",
            "Iteration 1200, loss: 39.487762451171875\n",
            "Iteration 1300, loss: 34.3146858215332\n",
            "Iteration 1400, loss: 42.74226760864258\n",
            "Iteration 1500, loss: 33.17182159423828\n",
            "Iteration 1600, loss: 24.305044174194336\n",
            "Iteration 1700, loss: 16.43391990661621\n",
            "Iteration 1800, loss: 15.894693374633789\n",
            "Iteration 1900, loss: 13.634346961975098\n",
            "Iteration 2000, loss: 9.947776794433594\n",
            "Iteration 2100, loss: 24.665428161621094\n",
            "Iteration 2200, loss: 14.912765502929688\n",
            "Iteration 2300, loss: 9.133270263671875\n",
            "Iteration 2400, loss: 6.57927131652832\n",
            "Iteration 2500, loss: 15.191566467285156\n",
            "Iteration 2600, loss: 9.654356002807617\n",
            "Iteration 2700, loss: 10.164485931396484\n",
            "Iteration 2800, loss: 12.006585121154785\n",
            "Iteration 2900, loss: 9.710370063781738\n",
            "Iteration 3000, loss: 11.234848022460938\n",
            "Iteration 3100, loss: 6.899669170379639\n",
            "Iteration 3200, loss: 2.082028865814209\n",
            "Iteration 3300, loss: 3.3881101608276367\n",
            "Iteration 3400, loss: 7.717289924621582\n",
            "Iteration 3500, loss: 3.410220146179199\n",
            "Iteration 3600, loss: 2.867922306060791\n",
            "Iteration 3700, loss: 6.606855869293213\n",
            "Iteration 3800, loss: 2.969198226928711\n",
            "Iteration 3900, loss: 4.755001544952393\n",
            "Iteration 4000, loss: 12.472825050354004\n",
            "Iteration 4100, loss: 2.900674819946289\n",
            "Iteration 4200, loss: 3.036630868911743\n",
            "Iteration 4300, loss: 6.423008441925049\n",
            "Iteration 4400, loss: 2.0829625129699707\n"
          ]
        }
      ]
    },
    {
      "cell_type": "code",
      "metadata": {
        "colab": {
          "base_uri": "https://localhost:8080/",
          "height": 282
        },
        "id": "zdc3jgAiU0SF",
        "outputId": "4bdacbeb-5b78-4b05-e54e-e9a28f2ce31e"
      },
      "source": [
        "plt.plot(running_loss)"
      ],
      "execution_count": 28,
      "outputs": [
        {
          "output_type": "execute_result",
          "data": {
            "text/plain": [
              "[<matplotlib.lines.Line2D at 0x7f9aadab2dd0>]"
            ]
          },
          "metadata": {},
          "execution_count": 28
        },
        {
          "output_type": "display_data",
          "data": {
            "image/png": "[encoded data removed]",
            "text/plain": [
              "<Figure size 432x288 with 1 Axes>"
            ]
          },
          "metadata": {
            "needs_background": "light"
          }
        }
      ]
    },
    {
      "cell_type": "code",
      "metadata": {
        "id": "qFJS90wZayY9",
        "colab": {
          "base_uri": "https://localhost:8080/"
        },
        "outputId": "41b919bd-722a-44c6-f1de-3b9cec9c3de5"
      },
      "source": [
        "out = encoder(X_batch.view(-1, 343).float())\n",
        "mu, log_sigma = out[:, :D], out[:, D:]\n",
        "z_k, log_prob_z0, log_prob_zk, log_det = flow_model(mu, log_sigma)\n",
        "x_hat = decoder(z_k)\n",
        "\n",
        "loss = torch.mean(log_prob_z0) + loss_fn(x_hat, X_batch.view(-1, 343).float()) - torch.mean(log_prob_zk) - torch.mean(log_det)\n",
        "print(loss)"
      ],
      "execution_count": 24,
      "outputs": [
        {
          "output_type": "stream",
          "name": "stdout",
          "text": [
            "tensor(2.0599, grad_fn=<SubBackward0>)\n"
          ]
        }
      ]
    },
    {
      "cell_type": "markdown",
      "metadata": {
        "id": "hZRa2o5KXbRi"
      },
      "source": [
        "# Trash"
      ]
    },
    {
      "cell_type": "code",
      "metadata": {
        "id": "jZgLUOg4ZZl8"
      },
      "source": [
        "import numpy as np\n",
        "import random\n",
        "# import sklearn\n",
        "from pyrsgis import raster\n",
        "from pyrsgis.ml import imageChipsFromArray\n",
        "\n",
        "# Defining file names\n",
        "featureFile = 'Playa_Image.tif'\n",
        "# labelFile = 'Playa_Image_Training.tif'\n",
        "\n",
        "# Reading and normalizing input data\n",
        "dsFeatures, arrFeatures = raster.read(featureFile, bands='all')\n",
        "arrFeatures = arrFeatures.astype(float)\n",
        "\n",
        "for i in range(arrFeatures.shape[0]):\n",
        "    bandMin = arrFeatures[i][:][:].min()\n",
        "    bandMax = arrFeatures[i][:][:].max()\n",
        "    bandRange = bandMax-bandMin\n",
        "    for j in range(arrFeatures.shape[1]):\n",
        "        for k in range(arrFeatures.shape[2]):\n",
        "            arrFeatures[i][j][k] = (arrFeatures[i][j][k]-bandMin)/bandRange\n",
        "\n",
        "# Creating chips using pyrsgis\n",
        "features = imageChipsFromArray(arrFeatures, x_size=7, y_size=7)"
      ],
      "execution_count": null,
      "outputs": []
    },
    {
      "cell_type": "code",
      "metadata": {
        "colab": {
          "base_uri": "https://localhost:8080/"
        },
        "id": "Q02JFN0zZniI",
        "outputId": "d6ec1128-d51f-4902-98f5-ae3ccfe6a4f5"
      },
      "source": [
        "print(features.shape)"
      ],
      "execution_count": null,
      "outputs": [
        {
          "output_type": "stream",
          "name": "stdout",
          "text": [
            "(188788, 7, 7, 7)\n"
          ]
        }
      ]
    },
    {
      "cell_type": "code",
      "metadata": {
        "id": "EbF_JcUsZ-qM"
      },
      "source": [
        "# Defining the function to split features and labels\n",
        "def train_test_split(features,  trainProp=0.75):\n",
        "    dataSize = features.shape[0]\n",
        "    sliceIndex = int(dataSize*trainProp)\n",
        "    randIndex = np.arange(dataSize)\n",
        "    random.shuffle(randIndex)\n",
        "    train_x = features[[randIndex[:sliceIndex]], :, :, :][0]\n",
        "    test_x = features[[randIndex[sliceIndex:]], :, :, :][0]\n",
        "    # train_y = labels[randIndex[:sliceIndex]]\n",
        "    # test_y = labels[randIndex[sliceIndex:]]\n",
        "    return(train_x,  test_x, )\n",
        "\n",
        "# Calling the function to split the data\n",
        "train_x, test_x = train_test_split(features)"
      ],
      "execution_count": null,
      "outputs": []
    },
    {
      "cell_type": "code",
      "metadata": {
        "colab": {
          "base_uri": "https://localhost:8080/"
        },
        "id": "4qIhjJdhaeTI",
        "outputId": "25c289bb-ead6-4c59-8ba1-23eb6314de81"
      },
      "source": [
        "print(train_x.shape, test_x.shape)"
      ],
      "execution_count": null,
      "outputs": [
        {
          "output_type": "stream",
          "name": "stdout",
          "text": [
            "(141591, 7, 7, 7) (47197, 7, 7, 7)\n"
          ]
        }
      ]
    },
    {
      "cell_type": "code",
      "metadata": {
        "id": "HeQz_3vJdZZc"
      },
      "source": [
        "from torch.utils.data import Dataset\n",
        "import numpy as np\n",
        "import torch\n",
        "\n",
        "class BinarizedMNIST(Dataset):\n",
        "    def __init__(self, file):\n",
        "        self.data = np.load(file)\n",
        "        self.data = torch.tensor(self.data)\n",
        "\n",
        "    def __len__(self,):\n",
        "        return len(self.data)\n",
        "\n",
        "    def __getitem__(self, idx):\n",
        "        return self.data[idx]\n",
        "\n",
        "# mnist_data = MNIST(root='./', download=True, transform=transforms.ToTensor())\n",
        "# data = BinarizedMNIST(single_band_chips)\n",
        "data_loader = torch.utils.data.DataLoader(single_band_chips_tensor,\n",
        "                                          batch_size=32,\n",
        "                                          shuffle=True,\n",
        "                                          num_workers=0)"
      ],
      "execution_count": null,
      "outputs": []
    },
    {
      "cell_type": "code",
      "metadata": {
        "id": "QHvdobDaAYTf",
        "colab": {
          "base_uri": "https://localhost:8080/"
        },
        "outputId": "32cf8f95-428b-4925-b725-89100bbe4483"
      },
      "source": [
        "from pyrsgis import raster\n",
        "from pyrsgis.ml import imageChipsFromArray, imageChipsFromFile\n",
        "import torch.nn as nn\n",
        "import torch\n",
        "# read the TIF file(s) (both are of different sizes - for demonstration)\n",
        "single_band_file = r'Playa_Image.tif'\n",
        "multi_band_file = r'Playa_Image.tif' # this is a Landsat 7 TM image (7 bands stacked)\n",
        "\n",
        "# create image chips\n",
        "single_band_chips = imageChipsFromFile(single_band_file, x_size=16, y_size=16)\n",
        "multi_band_chips  = imageChipsFromFile(multi_band_file, x_size=16, y_size=16)\n",
        "\n",
        "print(single_band_chips.shape)\n",
        "print(multi_band_chips.shape)\n",
        "# # read the files as array using pyrsgis raster.read module\n",
        "# _, single_band_array = raster.read(single_band_file)\n",
        "# _, multi_band_array = raster.read(multi_band_file)\n",
        "\n",
        "# # create image chips\n",
        "# single_band_chips = imageChipsFromArray(single_band_array, x_size=5, y_size=5)\n",
        "# multi_band_chips  = imageChipsFromArray(multi_band_array, x_size=5, y_size=5)\n",
        "\n",
        "# print(single_band_chips.shape)\n",
        "# print(multi_band_chips.shape)"
      ],
      "execution_count": null,
      "outputs": [
        {
          "output_type": "stream",
          "name": "stdout",
          "text": [
            "Warning! matplotlib_scalebar library not found. You may not be able to export map directly.\n",
            "(189658, 16, 16, 7)\n",
            "(189658, 16, 16, 7)\n"
          ]
        }
      ]
    }
  ]
}